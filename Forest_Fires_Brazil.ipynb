{
  "nbformat": 4,
  "nbformat_minor": 0,
  "metadata": {
    "colab": {
      "name": "Forest_Fires_Brazil.ipynb",
      "provenance": [],
      "collapsed_sections": [],
      "authorship_tag": "ABX9TyNvRraFeTq6FOYwszOc668G",
      "include_colab_link": true
    },
    "kernelspec": {
      "name": "python3",
      "display_name": "Python 3"
    },
    "language_info": {
      "name": "python"
    }
  },
  "cells": [
    {
      "cell_type": "markdown",
      "metadata": {
        "id": "view-in-github",
        "colab_type": "text"
      },
      "source": [
        "<a href=\"https://colab.research.google.com/github/aayushsss1/Forest-Fires-In-Brazil/blob/main/Forest_Fires_Brazil.ipynb\" target=\"_parent\"><img src=\"https://colab.research.google.com/assets/colab-badge.svg\" alt=\"Open In Colab\"/></a>"
      ]
    },
    {
      "cell_type": "markdown",
      "metadata": {
        "id": "fNLfJrrVwmTH"
      },
      "source": [
        "# Pre-Processing"
      ]
    },
    {
      "cell_type": "code",
      "metadata": {
        "colab": {
          "base_uri": "https://localhost:8080/"
        },
        "id": "ogA1Smr-5Fgj",
        "outputId": "3347c828-daf0-42e5-f8aa-ba3aeee53743"
      },
      "source": [
        "pip install geopandas"
      ],
      "execution_count": null,
      "outputs": [
        {
          "output_type": "stream",
          "text": [
            "Requirement already satisfied: geopandas in /usr/local/lib/python3.7/dist-packages (0.9.0)\n",
            "Requirement already satisfied: fiona>=1.8 in /usr/local/lib/python3.7/dist-packages (from geopandas) (1.8.19)\n",
            "Requirement already satisfied: shapely>=1.6 in /usr/local/lib/python3.7/dist-packages (from geopandas) (1.7.1)\n",
            "Requirement already satisfied: pyproj>=2.2.0 in /usr/local/lib/python3.7/dist-packages (from geopandas) (3.1.0)\n",
            "Requirement already satisfied: pandas>=0.24.0 in /usr/local/lib/python3.7/dist-packages (from geopandas) (1.1.5)\n",
            "Requirement already satisfied: cligj>=0.5 in /usr/local/lib/python3.7/dist-packages (from fiona>=1.8->geopandas) (0.7.2)\n",
            "Requirement already satisfied: click<8,>=4.0 in /usr/local/lib/python3.7/dist-packages (from fiona>=1.8->geopandas) (7.1.2)\n",
            "Requirement already satisfied: munch in /usr/local/lib/python3.7/dist-packages (from fiona>=1.8->geopandas) (2.5.0)\n",
            "Requirement already satisfied: six>=1.7 in /usr/local/lib/python3.7/dist-packages (from fiona>=1.8->geopandas) (1.15.0)\n",
            "Requirement already satisfied: click-plugins>=1.0 in /usr/local/lib/python3.7/dist-packages (from fiona>=1.8->geopandas) (1.1.1)\n",
            "Requirement already satisfied: certifi in /usr/local/lib/python3.7/dist-packages (from fiona>=1.8->geopandas) (2020.12.5)\n",
            "Requirement already satisfied: attrs>=17 in /usr/local/lib/python3.7/dist-packages (from fiona>=1.8->geopandas) (21.2.0)\n",
            "Requirement already satisfied: numpy>=1.15.4 in /usr/local/lib/python3.7/dist-packages (from pandas>=0.24.0->geopandas) (1.19.5)\n",
            "Requirement already satisfied: pytz>=2017.2 in /usr/local/lib/python3.7/dist-packages (from pandas>=0.24.0->geopandas) (2018.9)\n",
            "Requirement already satisfied: python-dateutil>=2.7.3 in /usr/local/lib/python3.7/dist-packages (from pandas>=0.24.0->geopandas) (2.8.1)\n"
          ],
          "name": "stdout"
        }
      ]
    },
    {
      "cell_type": "code",
      "metadata": {
        "id": "6S6FD2cqlT3T"
      },
      "source": [
        "import pandas as pd\n",
        "import numpy as np\n",
        "import matplotlib.pyplot as plt\n",
        "import seaborn as sns\n",
        "import geopandas as gpd"
      ],
      "execution_count": null,
      "outputs": []
    },
    {
      "cell_type": "code",
      "metadata": {
        "colab": {
          "base_uri": "https://localhost:8080/",
          "height": 359
        },
        "id": "5FJWQPaImMoD",
        "outputId": "d76f2370-fac7-40cd-d428-cc799e7ed003"
      },
      "source": [
        "df = pd.read_csv('amazon.csv')\n",
        "df.head(10)"
      ],
      "execution_count": null,
      "outputs": [
        {
          "output_type": "execute_result",
          "data": {
            "text/html": [
              "<div>\n",
              "<style scoped>\n",
              "    .dataframe tbody tr th:only-of-type {\n",
              "        vertical-align: middle;\n",
              "    }\n",
              "\n",
              "    .dataframe tbody tr th {\n",
              "        vertical-align: top;\n",
              "    }\n",
              "\n",
              "    .dataframe thead th {\n",
              "        text-align: right;\n",
              "    }\n",
              "</style>\n",
              "<table border=\"1\" class=\"dataframe\">\n",
              "  <thead>\n",
              "    <tr style=\"text-align: right;\">\n",
              "      <th></th>\n",
              "      <th>year</th>\n",
              "      <th>state</th>\n",
              "      <th>month</th>\n",
              "      <th>number</th>\n",
              "      <th>date</th>\n",
              "    </tr>\n",
              "  </thead>\n",
              "  <tbody>\n",
              "    <tr>\n",
              "      <th>0</th>\n",
              "      <td>1998</td>\n",
              "      <td>Acre</td>\n",
              "      <td>Janeiro</td>\n",
              "      <td>0.0</td>\n",
              "      <td>1998-01-01</td>\n",
              "    </tr>\n",
              "    <tr>\n",
              "      <th>1</th>\n",
              "      <td>1999</td>\n",
              "      <td>Acre</td>\n",
              "      <td>Janeiro</td>\n",
              "      <td>0.0</td>\n",
              "      <td>1999-01-01</td>\n",
              "    </tr>\n",
              "    <tr>\n",
              "      <th>2</th>\n",
              "      <td>2000</td>\n",
              "      <td>Acre</td>\n",
              "      <td>Janeiro</td>\n",
              "      <td>0.0</td>\n",
              "      <td>2000-01-01</td>\n",
              "    </tr>\n",
              "    <tr>\n",
              "      <th>3</th>\n",
              "      <td>2001</td>\n",
              "      <td>Acre</td>\n",
              "      <td>Janeiro</td>\n",
              "      <td>0.0</td>\n",
              "      <td>2001-01-01</td>\n",
              "    </tr>\n",
              "    <tr>\n",
              "      <th>4</th>\n",
              "      <td>2002</td>\n",
              "      <td>Acre</td>\n",
              "      <td>Janeiro</td>\n",
              "      <td>0.0</td>\n",
              "      <td>2002-01-01</td>\n",
              "    </tr>\n",
              "    <tr>\n",
              "      <th>5</th>\n",
              "      <td>2003</td>\n",
              "      <td>Acre</td>\n",
              "      <td>Janeiro</td>\n",
              "      <td>10.0</td>\n",
              "      <td>2003-01-01</td>\n",
              "    </tr>\n",
              "    <tr>\n",
              "      <th>6</th>\n",
              "      <td>2004</td>\n",
              "      <td>Acre</td>\n",
              "      <td>Janeiro</td>\n",
              "      <td>0.0</td>\n",
              "      <td>2004-01-01</td>\n",
              "    </tr>\n",
              "    <tr>\n",
              "      <th>7</th>\n",
              "      <td>2005</td>\n",
              "      <td>Acre</td>\n",
              "      <td>Janeiro</td>\n",
              "      <td>12.0</td>\n",
              "      <td>2005-01-01</td>\n",
              "    </tr>\n",
              "    <tr>\n",
              "      <th>8</th>\n",
              "      <td>2006</td>\n",
              "      <td>Acre</td>\n",
              "      <td>Janeiro</td>\n",
              "      <td>4.0</td>\n",
              "      <td>2006-01-01</td>\n",
              "    </tr>\n",
              "    <tr>\n",
              "      <th>9</th>\n",
              "      <td>2007</td>\n",
              "      <td>Acre</td>\n",
              "      <td>Janeiro</td>\n",
              "      <td>0.0</td>\n",
              "      <td>2007-01-01</td>\n",
              "    </tr>\n",
              "  </tbody>\n",
              "</table>\n",
              "</div>"
            ],
            "text/plain": [
              "   year state    month  number        date\n",
              "0  1998  Acre  Janeiro     0.0  1998-01-01\n",
              "1  1999  Acre  Janeiro     0.0  1999-01-01\n",
              "2  2000  Acre  Janeiro     0.0  2000-01-01\n",
              "3  2001  Acre  Janeiro     0.0  2001-01-01\n",
              "4  2002  Acre  Janeiro     0.0  2002-01-01\n",
              "5  2003  Acre  Janeiro    10.0  2003-01-01\n",
              "6  2004  Acre  Janeiro     0.0  2004-01-01\n",
              "7  2005  Acre  Janeiro    12.0  2005-01-01\n",
              "8  2006  Acre  Janeiro     4.0  2006-01-01\n",
              "9  2007  Acre  Janeiro     0.0  2007-01-01"
            ]
          },
          "metadata": {
            "tags": []
          },
          "execution_count": 103
        }
      ]
    },
    {
      "cell_type": "code",
      "metadata": {
        "colab": {
          "base_uri": "https://localhost:8080/"
        },
        "id": "MyRJJsXioPQQ",
        "outputId": "85131ca7-d8d5-4ce0-fee3-3bbc48535a81"
      },
      "source": [
        "df.shape"
      ],
      "execution_count": null,
      "outputs": [
        {
          "output_type": "execute_result",
          "data": {
            "text/plain": [
              "(6454, 5)"
            ]
          },
          "metadata": {
            "tags": []
          },
          "execution_count": 104
        }
      ]
    },
    {
      "cell_type": "code",
      "metadata": {
        "colab": {
          "base_uri": "https://localhost:8080/"
        },
        "id": "mZ5ToUTpoYB0",
        "outputId": "af64a49a-0103-4fcf-cf41-fd1414c8b840"
      },
      "source": [
        "df.info()"
      ],
      "execution_count": null,
      "outputs": [
        {
          "output_type": "stream",
          "text": [
            "<class 'pandas.core.frame.DataFrame'>\n",
            "RangeIndex: 6454 entries, 0 to 6453\n",
            "Data columns (total 5 columns):\n",
            " #   Column  Non-Null Count  Dtype  \n",
            "---  ------  --------------  -----  \n",
            " 0   year    6454 non-null   int64  \n",
            " 1   state   6454 non-null   object \n",
            " 2   month   6454 non-null   object \n",
            " 3   number  6454 non-null   float64\n",
            " 4   date    6454 non-null   object \n",
            "dtypes: float64(1), int64(1), object(3)\n",
            "memory usage: 252.2+ KB\n"
          ],
          "name": "stdout"
        }
      ]
    },
    {
      "cell_type": "code",
      "metadata": {
        "colab": {
          "base_uri": "https://localhost:8080/"
        },
        "id": "3hCRQiOUobFN",
        "outputId": "9d4ca031-389d-46cc-82bd-939496556f11"
      },
      "source": [
        "df.describe"
      ],
      "execution_count": null,
      "outputs": [
        {
          "output_type": "execute_result",
          "data": {
            "text/plain": [
              "<bound method NDFrame.describe of       year      state     month  number        date\n",
              "0     1998       Acre   Janeiro     0.0  1998-01-01\n",
              "1     1999       Acre   Janeiro     0.0  1999-01-01\n",
              "2     2000       Acre   Janeiro     0.0  2000-01-01\n",
              "3     2001       Acre   Janeiro     0.0  2001-01-01\n",
              "4     2002       Acre   Janeiro     0.0  2002-01-01\n",
              "...    ...        ...       ...     ...         ...\n",
              "6449  2012  Tocantins  Dezembro   128.0  2012-01-01\n",
              "6450  2013  Tocantins  Dezembro    85.0  2013-01-01\n",
              "6451  2014  Tocantins  Dezembro   223.0  2014-01-01\n",
              "6452  2015  Tocantins  Dezembro   373.0  2015-01-01\n",
              "6453  2016  Tocantins  Dezembro   119.0  2016-01-01\n",
              "\n",
              "[6454 rows x 5 columns]>"
            ]
          },
          "metadata": {
            "tags": []
          },
          "execution_count": 106
        }
      ]
    },
    {
      "cell_type": "code",
      "metadata": {
        "colab": {
          "base_uri": "https://localhost:8080/"
        },
        "id": "pilC8qBYoodq",
        "outputId": "2c4767b6-a413-4226-b814-1daa2eeeb93c"
      },
      "source": [
        "df.isna().sum()"
      ],
      "execution_count": null,
      "outputs": [
        {
          "output_type": "execute_result",
          "data": {
            "text/plain": [
              "year      0\n",
              "state     0\n",
              "month     0\n",
              "number    0\n",
              "date      0\n",
              "dtype: int64"
            ]
          },
          "metadata": {
            "tags": []
          },
          "execution_count": 107
        }
      ]
    },
    {
      "cell_type": "code",
      "metadata": {
        "colab": {
          "base_uri": "https://localhost:8080/"
        },
        "id": "krybO97Lo2Mn",
        "outputId": "01d6f27f-a2fe-44a4-c8bc-32a525327a70"
      },
      "source": [
        "df['state'].value_counts()"
      ],
      "execution_count": null,
      "outputs": [
        {
          "output_type": "execute_result",
          "data": {
            "text/plain": [
              "Rio                 717\n",
              "Paraiba             478\n",
              "Mato Grosso         478\n",
              "Alagoas             240\n",
              "Sao Paulo           239\n",
              "Amapa               239\n",
              "Rondonia            239\n",
              "Santa Catarina      239\n",
              "Sergipe             239\n",
              "Amazonas            239\n",
              "Roraima             239\n",
              "Pernambuco          239\n",
              "Bahia               239\n",
              "Espirito Santo      239\n",
              "Goias               239\n",
              "Distrito Federal    239\n",
              "Piau                239\n",
              "Maranhao            239\n",
              "Ceara               239\n",
              "Pará                239\n",
              "Acre                239\n",
              "Minas Gerais        239\n",
              "Tocantins           239\n",
              "Name: state, dtype: int64"
            ]
          },
          "metadata": {
            "tags": []
          },
          "execution_count": 108
        }
      ]
    },
    {
      "cell_type": "code",
      "metadata": {
        "colab": {
          "base_uri": "https://localhost:8080/"
        },
        "id": "-8L-Gzj6pCZ6",
        "outputId": "50a97508-ca74-452a-b996-7ed519e36aa9"
      },
      "source": [
        "df['state'].unique()"
      ],
      "execution_count": null,
      "outputs": [
        {
          "output_type": "execute_result",
          "data": {
            "text/plain": [
              "array(['Acre', 'Alagoas', 'Amapa', 'Amazonas', 'Bahia', 'Ceara',\n",
              "       'Distrito Federal', 'Espirito Santo', 'Goias', 'Maranhao',\n",
              "       'Mato Grosso', 'Minas Gerais', 'Pará', 'Paraiba', 'Pernambuco',\n",
              "       'Piau', 'Rio', 'Rondonia', 'Roraima', 'Santa Catarina',\n",
              "       'Sao Paulo ', 'Sergipe', 'Tocantins'], dtype=object)"
            ]
          },
          "metadata": {
            "tags": []
          },
          "execution_count": 109
        }
      ]
    },
    {
      "cell_type": "markdown",
      "metadata": {
        "id": "6UCzo7pgwtWK"
      },
      "source": [
        "# Plotting the Number of Forest Fires throught the years"
      ]
    },
    {
      "cell_type": "code",
      "metadata": {
        "colab": {
          "base_uri": "https://localhost:8080/"
        },
        "id": "Nh1nVDrOq_aS",
        "outputId": "562b828b-becd-4cda-d0e3-0d005f7bf1c5"
      },
      "source": [
        "df1=df.groupby(df['year'])['number'].nunique()\n",
        "df1"
      ],
      "execution_count": null,
      "outputs": [
        {
          "output_type": "execute_result",
          "data": {
            "text/plain": [
              "year\n",
              "1998    124\n",
              "1999    160\n",
              "2000    150\n",
              "2001    161\n",
              "2002    194\n",
              "2003    210\n",
              "2004    206\n",
              "2005    202\n",
              "2006    175\n",
              "2007    176\n",
              "2008    165\n",
              "2009    182\n",
              "2010    206\n",
              "2011    196\n",
              "2012    201\n",
              "2013    193\n",
              "2014    207\n",
              "2015    220\n",
              "2016    230\n",
              "2017    198\n",
              "Name: number, dtype: int64"
            ]
          },
          "metadata": {
            "tags": []
          },
          "execution_count": 110
        }
      ]
    },
    {
      "cell_type": "code",
      "metadata": {
        "colab": {
          "base_uri": "https://localhost:8080/",
          "height": 258
        },
        "id": "_dFq8_CxpVUc",
        "outputId": "1a579826-cb8c-4cf9-d248-b0529f75d76f"
      },
      "source": [
        "df1.plot(kind = 'line', figsize=(16, 3), color = 'darkred')\n",
        "plt.title('Number of Fires over time (Years) ')"
      ],
      "execution_count": null,
      "outputs": [
        {
          "output_type": "execute_result",
          "data": {
            "text/plain": [
              "Text(0.5, 1.0, 'Number of Fires over time (Years) ')"
            ]
          },
          "metadata": {
            "tags": []
          },
          "execution_count": 111
        },
        {
          "output_type": "display_data",
          "data": {
            "image/png": "[encoded data removed]",
            "text/plain": [
              "<Figure size 1152x216 with 1 Axes>"
            ]
          },
          "metadata": {
            "tags": [],
            "needs_background": "light"
          }
        }
      ]
    },
    {
      "cell_type": "markdown",
      "metadata": {
        "id": "bAdUl5Y9xXvP"
      },
      "source": [
        "We can see a gradual increase in fires initially from 1998-2005, and a decrease in fires from 2005-2008. Over the recent years we have again see an increase"
      ]
    },
    {
      "cell_type": "markdown",
      "metadata": {
        "id": "HYKWb6b7w2Yi"
      },
      "source": [
        "# Plotting the number of forest fires taken place over months (1998-2017)"
      ]
    },
    {
      "cell_type": "code",
      "metadata": {
        "colab": {
          "base_uri": "https://localhost:8080/"
        },
        "id": "AaMNM0gosTmH",
        "outputId": "5b93b22c-1abe-4433-fe5c-2ca9f532b0d3"
      },
      "source": [
        "df1=df.groupby(df['month'])['number'].sum().reindex(['Janeiro','Fevereiro','March','Abril','Maio','Junho','Julho','Agosto','Setembro','Outubro','Novembro','Dezembro'])\n",
        "df1"
      ],
      "execution_count": null,
      "outputs": [
        {
          "output_type": "execute_result",
          "data": {
            "text/plain": [
              "month\n",
              "Janeiro      47747.844\n",
              "Fevereiro    30848.050\n",
              "March        30717.405\n",
              "Abril        28188.770\n",
              "Maio         34731.363\n",
              "Junho        56010.675\n",
              "Julho        92326.113\n",
              "Agosto       88050.435\n",
              "Setembro     58578.305\n",
              "Outubro      88681.579\n",
              "Novembro     85508.054\n",
              "Dezembro     57535.480\n",
              "Name: number, dtype: float64"
            ]
          },
          "metadata": {
            "tags": []
          },
          "execution_count": 112
        }
      ]
    },
    {
      "cell_type": "code",
      "metadata": {
        "colab": {
          "base_uri": "https://localhost:8080/",
          "height": 445
        },
        "id": "DMzPiQEduZF5",
        "outputId": "e97234b2-585f-4fb4-f2cc-4da7d1af800e"
      },
      "source": [
        "df1.plot(kind = 'bar',figsize=(18, 6), color = 'crimson')\n",
        "plt.title('Number of Fires over Months (1998-2017)  ')"
      ],
      "execution_count": null,
      "outputs": [
        {
          "output_type": "execute_result",
          "data": {
            "text/plain": [
              "Text(0.5, 1.0, 'Number of Fires over Months (1998-2017)  ')"
            ]
          },
          "metadata": {
            "tags": []
          },
          "execution_count": 113
        },
        {
          "output_type": "display_data",
          "data": {
            "image/png": "[encoded data removed]",
            "text/plain": [
              "<Figure size 1296x432 with 1 Axes>"
            ]
          },
          "metadata": {
            "tags": [],
            "needs_background": "light"
          }
        }
      ]
    },
    {
      "cell_type": "markdown",
      "metadata": {
        "id": "55QCsgkNxB6A"
      },
      "source": [
        "From the bar graph we can see that July, August and October are when there are high number of forest fires. These months are usually the driest months of the year in Brazil, hence we can consider it to be a factor in the increase in fires"
      ]
    },
    {
      "cell_type": "markdown",
      "metadata": {
        "id": "PYrzag7TyDXW"
      },
      "source": [
        "#Plotting a state-wise depiction of the number of forest fires"
      ]
    },
    {
      "cell_type": "code",
      "metadata": {
        "colab": {
          "base_uri": "https://localhost:8080/"
        },
        "id": "cBV1VU3mz3al",
        "outputId": "c6e7e718-f7a5-453f-9539-90134346089e"
      },
      "source": [
        "df1=df.groupby(df['state'])['number'].sum().sort_values(ascending = True)\n",
        "df1"
      ],
      "execution_count": null,
      "outputs": [
        {
          "output_type": "execute_result",
          "data": {
            "text/plain": [
              "state\n",
              "Sergipe              3237.000\n",
              "Distrito Federal     3561.000\n",
              "Alagoas              4644.000\n",
              "Espirito Santo       6546.000\n",
              "Acre                18464.030\n",
              "Rondonia            20285.429\n",
              "Amapa               21831.576\n",
              "Santa Catarina      24359.852\n",
              "Roraima             24385.074\n",
              "Pernambuco          24498.000\n",
              "Pará                24512.144\n",
              "Maranhao            25129.131\n",
              "Ceara               30428.063\n",
              "Amazonas            30650.129\n",
              "Tocantins           33707.885\n",
              "Minas Gerais        37475.258\n",
              "Goias               37695.520\n",
              "Piau                37803.747\n",
              "Bahia               44746.226\n",
              "Rio                 45160.865\n",
              "Sao Paulo           51121.198\n",
              "Paraiba             52435.918\n",
              "Mato Grosso         96246.028\n",
              "Name: number, dtype: float64"
            ]
          },
          "metadata": {
            "tags": []
          },
          "execution_count": 114
        }
      ]
    },
    {
      "cell_type": "code",
      "metadata": {
        "colab": {
          "base_uri": "https://localhost:8080/",
          "height": 597
        },
        "id": "BKf8Xcn907WB",
        "outputId": "db08d3c1-3da6-48a5-ddd9-ca8d63be9e50"
      },
      "source": [
        "df1.plot(kind = 'bar',figsize=(14, 8), color = 'crimson')\n",
        "plt.title('Number of Fires in various States (1998-2017)')"
      ],
      "execution_count": null,
      "outputs": [
        {
          "output_type": "execute_result",
          "data": {
            "text/plain": [
              "Text(0.5, 1.0, 'Number of Fires in various States (1998-2017)')"
            ]
          },
          "metadata": {
            "tags": []
          },
          "execution_count": 115
        },
        {
          "output_type": "display_data",
          "data": {
            "image/png": "[encoded data removed]",
            "text/plain": [
              "<Figure size 1008x576 with 1 Axes>"
            ]
          },
          "metadata": {
            "tags": [],
            "needs_background": "light"
          }
        }
      ]
    },
    {
      "cell_type": "markdown",
      "metadata": {
        "id": "l3g1Sir1yOa5"
      },
      "source": [
        "We see that Matto Grosso and Paraiba are the states with large number of fires"
      ]
    },
    {
      "cell_type": "markdown",
      "metadata": {
        "id": "7mjl2dj2ycLC"
      },
      "source": [
        "#Geographical depiction of Forest Fires in Brazil"
      ]
    },
    {
      "cell_type": "code",
      "metadata": {
        "id": "grK_HmoB7qdP"
      },
      "source": [
        "df1=df.groupby(df['state'])['number'].sum().sort_values(ascending = True).to_frame(name = 'Count').reset_index()"
      ],
      "execution_count": null,
      "outputs": []
    },
    {
      "cell_type": "code",
      "metadata": {
        "id": "VUgcZRr1-QC-"
      },
      "source": [
        "df2=df1.reset_index().sort_values('state')"
      ],
      "execution_count": null,
      "outputs": []
    },
    {
      "cell_type": "code",
      "metadata": {
        "colab": {
          "base_uri": "https://localhost:8080/",
          "height": 514
        },
        "id": "T9xlxMlBAqd1",
        "outputId": "81d48c85-d9fe-453a-e1c1-83836438a855"
      },
      "source": [
        "df2 = df2.reset_index()\n",
        "df2.head(15)"
      ],
      "execution_count": null,
      "outputs": [
        {
          "output_type": "execute_result",
          "data": {
            "text/html": [
              "<div>\n",
              "<style scoped>\n",
              "    .dataframe tbody tr th:only-of-type {\n",
              "        vertical-align: middle;\n",
              "    }\n",
              "\n",
              "    .dataframe tbody tr th {\n",
              "        vertical-align: top;\n",
              "    }\n",
              "\n",
              "    .dataframe thead th {\n",
              "        text-align: right;\n",
              "    }\n",
              "</style>\n",
              "<table border=\"1\" class=\"dataframe\">\n",
              "  <thead>\n",
              "    <tr style=\"text-align: right;\">\n",
              "      <th></th>\n",
              "      <th>level_0</th>\n",
              "      <th>index</th>\n",
              "      <th>state</th>\n",
              "      <th>Count</th>\n",
              "    </tr>\n",
              "  </thead>\n",
              "  <tbody>\n",
              "    <tr>\n",
              "      <th>0</th>\n",
              "      <td>4</td>\n",
              "      <td>4</td>\n",
              "      <td>Acre</td>\n",
              "      <td>18464.030</td>\n",
              "    </tr>\n",
              "    <tr>\n",
              "      <th>1</th>\n",
              "      <td>2</td>\n",
              "      <td>2</td>\n",
              "      <td>Alagoas</td>\n",
              "      <td>4644.000</td>\n",
              "    </tr>\n",
              "    <tr>\n",
              "      <th>2</th>\n",
              "      <td>6</td>\n",
              "      <td>6</td>\n",
              "      <td>Amapa</td>\n",
              "      <td>21831.576</td>\n",
              "    </tr>\n",
              "    <tr>\n",
              "      <th>3</th>\n",
              "      <td>13</td>\n",
              "      <td>13</td>\n",
              "      <td>Amazonas</td>\n",
              "      <td>30650.129</td>\n",
              "    </tr>\n",
              "    <tr>\n",
              "      <th>4</th>\n",
              "      <td>18</td>\n",
              "      <td>18</td>\n",
              "      <td>Bahia</td>\n",
              "      <td>44746.226</td>\n",
              "    </tr>\n",
              "    <tr>\n",
              "      <th>5</th>\n",
              "      <td>12</td>\n",
              "      <td>12</td>\n",
              "      <td>Ceara</td>\n",
              "      <td>30428.063</td>\n",
              "    </tr>\n",
              "    <tr>\n",
              "      <th>6</th>\n",
              "      <td>1</td>\n",
              "      <td>1</td>\n",
              "      <td>Distrito Federal</td>\n",
              "      <td>3561.000</td>\n",
              "    </tr>\n",
              "    <tr>\n",
              "      <th>7</th>\n",
              "      <td>3</td>\n",
              "      <td>3</td>\n",
              "      <td>Espirito Santo</td>\n",
              "      <td>6546.000</td>\n",
              "    </tr>\n",
              "    <tr>\n",
              "      <th>8</th>\n",
              "      <td>16</td>\n",
              "      <td>16</td>\n",
              "      <td>Goias</td>\n",
              "      <td>37695.520</td>\n",
              "    </tr>\n",
              "    <tr>\n",
              "      <th>9</th>\n",
              "      <td>11</td>\n",
              "      <td>11</td>\n",
              "      <td>Maranhao</td>\n",
              "      <td>25129.131</td>\n",
              "    </tr>\n",
              "    <tr>\n",
              "      <th>10</th>\n",
              "      <td>22</td>\n",
              "      <td>22</td>\n",
              "      <td>Mato Grosso</td>\n",
              "      <td>96246.028</td>\n",
              "    </tr>\n",
              "    <tr>\n",
              "      <th>11</th>\n",
              "      <td>15</td>\n",
              "      <td>15</td>\n",
              "      <td>Minas Gerais</td>\n",
              "      <td>37475.258</td>\n",
              "    </tr>\n",
              "    <tr>\n",
              "      <th>12</th>\n",
              "      <td>21</td>\n",
              "      <td>21</td>\n",
              "      <td>Paraiba</td>\n",
              "      <td>52435.918</td>\n",
              "    </tr>\n",
              "    <tr>\n",
              "      <th>13</th>\n",
              "      <td>10</td>\n",
              "      <td>10</td>\n",
              "      <td>Pará</td>\n",
              "      <td>24512.144</td>\n",
              "    </tr>\n",
              "    <tr>\n",
              "      <th>14</th>\n",
              "      <td>9</td>\n",
              "      <td>9</td>\n",
              "      <td>Pernambuco</td>\n",
              "      <td>24498.000</td>\n",
              "    </tr>\n",
              "  </tbody>\n",
              "</table>\n",
              "</div>"
            ],
            "text/plain": [
              "    level_0  index             state      Count\n",
              "0         4      4              Acre  18464.030\n",
              "1         2      2           Alagoas   4644.000\n",
              "2         6      6             Amapa  21831.576\n",
              "3        13     13          Amazonas  30650.129\n",
              "4        18     18             Bahia  44746.226\n",
              "5        12     12             Ceara  30428.063\n",
              "6         1      1  Distrito Federal   3561.000\n",
              "7         3      3    Espirito Santo   6546.000\n",
              "8        16     16             Goias  37695.520\n",
              "9        11     11          Maranhao  25129.131\n",
              "10       22     22       Mato Grosso  96246.028\n",
              "11       15     15      Minas Gerais  37475.258\n",
              "12       21     21           Paraiba  52435.918\n",
              "13       10     10              Pará  24512.144\n",
              "14        9      9        Pernambuco  24498.000"
            ]
          },
          "metadata": {
            "tags": []
          },
          "execution_count": 118
        }
      ]
    },
    {
      "cell_type": "code",
      "metadata": {
        "colab": {
          "base_uri": "https://localhost:8080/",
          "height": 741
        },
        "id": "TVuBe2Xl1MIz",
        "outputId": "659a9324-1574-433b-80f6-9802a753b666"
      },
      "source": [
        "fp = \"BRA_adm1.shp\"\n",
        "map_df = gpd.read_file(fp)\n",
        "map_df.plot()\n",
        "print(map_df)"
      ],
      "execution_count": null,
      "outputs": [
        {
          "output_type": "stream",
          "text": [
            "                                             geometry\n",
            "0   POLYGON ((-73.33251 -7.32488, -73.27482 -7.350...\n",
            "1   MULTIPOLYGON (((-35.90153 -9.86180, -35.90153 ...\n",
            "2   MULTIPOLYGON (((-50.02403 0.85986, -50.02403 0...\n",
            "3   POLYGON ((-67.32623 2.02968, -67.30118 1.92997...\n",
            "4   MULTIPOLYGON (((-38.69708 -17.97903, -38.69708...\n",
            "5   MULTIPOLYGON (((-38.47542 -3.70097, -38.47542 ...\n",
            "6   POLYGON ((-48.03603 -15.50022, -47.77200 -15.5...\n",
            "7   MULTIPOLYGON (((-40.88403 -21.16125, -40.88403...\n",
            "8   POLYGON ((-50.15817 -12.41238, -50.15942 -12.4...\n",
            "9   MULTIPOLYGON (((-42.12375 -2.80069, -42.12375 ...\n",
            "10  POLYGON ((-56.10364 -17.17354, -56.08440 -17.1...\n",
            "11  POLYGON ((-57.60524 -8.66285, -57.59355 -8.707...\n",
            "12  POLYGON ((-44.20978 -14.23665, -44.20908 -14.2...\n",
            "13  MULTIPOLYGON (((-46.43458 -1.01708, -46.43458 ...\n",
            "14  MULTIPOLYGON (((-42.87874 -9.29837, -42.86221 ...\n",
            "15  MULTIPOLYGON (((-48.63070 -25.86792, -48.63070...\n",
            "16  MULTIPOLYGON (((-35.13597 -8.83792, -35.13597 ...\n",
            "17  POLYGON ((-41.81681 -2.74375, -41.81681 -2.744...\n",
            "18  MULTIPOLYGON (((-44.67125 -23.35458, -44.67125...\n",
            "19  MULTIPOLYGON (((-35.10903 -6.19347, -35.10903 ...\n",
            "20  MULTIPOLYGON (((-52.07069 -32.02847, -52.07069...\n",
            "21  POLYGON ((-63.53470 -7.97434, -63.50050 -7.976...\n",
            "22  POLYGON ((-60.16886 5.22630, -60.16519 5.22606...\n",
            "23  MULTIPOLYGON (((-48.08236 -25.28431, -48.08236...\n",
            "24  MULTIPOLYGON (((-48.75514 -28.51041, -48.75459...\n",
            "25  MULTIPOLYGON (((-37.38458 -11.45986, -37.38458...\n",
            "26  POLYGON ((-48.35310 -5.17391, -48.32085 -5.201...\n"
          ],
          "name": "stdout"
        },
        {
          "output_type": "display_data",
          "data": {
            "image/png": "[encoded data removed]",
            "text/plain": [
              "<Figure size 432x288 with 1 Axes>"
            ]
          },
          "metadata": {
            "tags": [],
            "needs_background": "light"
          }
        }
      ]
    },
    {
      "cell_type": "code",
      "metadata": {
        "colab": {
          "base_uri": "https://localhost:8080/",
          "height": 793
        },
        "id": "Tdoqqp50Hu8W",
        "outputId": "a868dacd-1cba-4dec-c871-3b8d987f165d"
      },
      "source": [
        "map_df = map_df.drop(labels = [9,19,20] , axis = 0)\n",
        "map_df=map_df.reset_index()\n",
        "map_df = map_df.drop(columns='index')\n",
        "map_df.head(25)"
      ],
      "execution_count": null,
      "outputs": [
        {
          "output_type": "execute_result",
          "data": {
            "text/html": [
              "<div>\n",
              "<style scoped>\n",
              "    .dataframe tbody tr th:only-of-type {\n",
              "        vertical-align: middle;\n",
              "    }\n",
              "\n",
              "    .dataframe tbody tr th {\n",
              "        vertical-align: top;\n",
              "    }\n",
              "\n",
              "    .dataframe thead th {\n",
              "        text-align: right;\n",
              "    }\n",
              "</style>\n",
              "<table border=\"1\" class=\"dataframe\">\n",
              "  <thead>\n",
              "    <tr style=\"text-align: right;\">\n",
              "      <th></th>\n",
              "      <th>geometry</th>\n",
              "    </tr>\n",
              "  </thead>\n",
              "  <tbody>\n",
              "    <tr>\n",
              "      <th>0</th>\n",
              "      <td>POLYGON ((-73.33251 -7.32488, -73.27482 -7.350...</td>\n",
              "    </tr>\n",
              "    <tr>\n",
              "      <th>1</th>\n",
              "      <td>MULTIPOLYGON (((-35.90153 -9.86180, -35.90153 ...</td>\n",
              "    </tr>\n",
              "    <tr>\n",
              "      <th>2</th>\n",
              "      <td>MULTIPOLYGON (((-50.02403 0.85986, -50.02403 0...</td>\n",
              "    </tr>\n",
              "    <tr>\n",
              "      <th>3</th>\n",
              "      <td>POLYGON ((-67.32623 2.02968, -67.30118 1.92997...</td>\n",
              "    </tr>\n",
              "    <tr>\n",
              "      <th>4</th>\n",
              "      <td>MULTIPOLYGON (((-38.69708 -17.97903, -38.69708...</td>\n",
              "    </tr>\n",
              "    <tr>\n",
              "      <th>5</th>\n",
              "      <td>MULTIPOLYGON (((-38.47542 -3.70097, -38.47542 ...</td>\n",
              "    </tr>\n",
              "    <tr>\n",
              "      <th>6</th>\n",
              "      <td>POLYGON ((-48.03603 -15.50022, -47.77200 -15.5...</td>\n",
              "    </tr>\n",
              "    <tr>\n",
              "      <th>7</th>\n",
              "      <td>MULTIPOLYGON (((-40.88403 -21.16125, -40.88403...</td>\n",
              "    </tr>\n",
              "    <tr>\n",
              "      <th>8</th>\n",
              "      <td>POLYGON ((-50.15817 -12.41238, -50.15942 -12.4...</td>\n",
              "    </tr>\n",
              "    <tr>\n",
              "      <th>9</th>\n",
              "      <td>POLYGON ((-56.10364 -17.17354, -56.08440 -17.1...</td>\n",
              "    </tr>\n",
              "    <tr>\n",
              "      <th>10</th>\n",
              "      <td>POLYGON ((-57.60524 -8.66285, -57.59355 -8.707...</td>\n",
              "    </tr>\n",
              "    <tr>\n",
              "      <th>11</th>\n",
              "      <td>POLYGON ((-44.20978 -14.23665, -44.20908 -14.2...</td>\n",
              "    </tr>\n",
              "    <tr>\n",
              "      <th>12</th>\n",
              "      <td>MULTIPOLYGON (((-46.43458 -1.01708, -46.43458 ...</td>\n",
              "    </tr>\n",
              "    <tr>\n",
              "      <th>13</th>\n",
              "      <td>MULTIPOLYGON (((-42.87874 -9.29837, -42.86221 ...</td>\n",
              "    </tr>\n",
              "    <tr>\n",
              "      <th>14</th>\n",
              "      <td>MULTIPOLYGON (((-48.63070 -25.86792, -48.63070...</td>\n",
              "    </tr>\n",
              "    <tr>\n",
              "      <th>15</th>\n",
              "      <td>MULTIPOLYGON (((-35.13597 -8.83792, -35.13597 ...</td>\n",
              "    </tr>\n",
              "    <tr>\n",
              "      <th>16</th>\n",
              "      <td>POLYGON ((-41.81681 -2.74375, -41.81681 -2.744...</td>\n",
              "    </tr>\n",
              "    <tr>\n",
              "      <th>17</th>\n",
              "      <td>MULTIPOLYGON (((-44.67125 -23.35458, -44.67125...</td>\n",
              "    </tr>\n",
              "    <tr>\n",
              "      <th>18</th>\n",
              "      <td>POLYGON ((-63.53470 -7.97434, -63.50050 -7.976...</td>\n",
              "    </tr>\n",
              "    <tr>\n",
              "      <th>19</th>\n",
              "      <td>POLYGON ((-60.16886 5.22630, -60.16519 5.22606...</td>\n",
              "    </tr>\n",
              "    <tr>\n",
              "      <th>20</th>\n",
              "      <td>MULTIPOLYGON (((-48.08236 -25.28431, -48.08236...</td>\n",
              "    </tr>\n",
              "    <tr>\n",
              "      <th>21</th>\n",
              "      <td>MULTIPOLYGON (((-48.75514 -28.51041, -48.75459...</td>\n",
              "    </tr>\n",
              "    <tr>\n",
              "      <th>22</th>\n",
              "      <td>MULTIPOLYGON (((-37.38458 -11.45986, -37.38458...</td>\n",
              "    </tr>\n",
              "    <tr>\n",
              "      <th>23</th>\n",
              "      <td>POLYGON ((-48.35310 -5.17391, -48.32085 -5.201...</td>\n",
              "    </tr>\n",
              "  </tbody>\n",
              "</table>\n",
              "</div>"
            ],
            "text/plain": [
              "                                             geometry\n",
              "0   POLYGON ((-73.33251 -7.32488, -73.27482 -7.350...\n",
              "1   MULTIPOLYGON (((-35.90153 -9.86180, -35.90153 ...\n",
              "2   MULTIPOLYGON (((-50.02403 0.85986, -50.02403 0...\n",
              "3   POLYGON ((-67.32623 2.02968, -67.30118 1.92997...\n",
              "4   MULTIPOLYGON (((-38.69708 -17.97903, -38.69708...\n",
              "5   MULTIPOLYGON (((-38.47542 -3.70097, -38.47542 ...\n",
              "6   POLYGON ((-48.03603 -15.50022, -47.77200 -15.5...\n",
              "7   MULTIPOLYGON (((-40.88403 -21.16125, -40.88403...\n",
              "8   POLYGON ((-50.15817 -12.41238, -50.15942 -12.4...\n",
              "9   POLYGON ((-56.10364 -17.17354, -56.08440 -17.1...\n",
              "10  POLYGON ((-57.60524 -8.66285, -57.59355 -8.707...\n",
              "11  POLYGON ((-44.20978 -14.23665, -44.20908 -14.2...\n",
              "12  MULTIPOLYGON (((-46.43458 -1.01708, -46.43458 ...\n",
              "13  MULTIPOLYGON (((-42.87874 -9.29837, -42.86221 ...\n",
              "14  MULTIPOLYGON (((-48.63070 -25.86792, -48.63070...\n",
              "15  MULTIPOLYGON (((-35.13597 -8.83792, -35.13597 ...\n",
              "16  POLYGON ((-41.81681 -2.74375, -41.81681 -2.744...\n",
              "17  MULTIPOLYGON (((-44.67125 -23.35458, -44.67125...\n",
              "18  POLYGON ((-63.53470 -7.97434, -63.50050 -7.976...\n",
              "19  POLYGON ((-60.16886 5.22630, -60.16519 5.22606...\n",
              "20  MULTIPOLYGON (((-48.08236 -25.28431, -48.08236...\n",
              "21  MULTIPOLYGON (((-48.75514 -28.51041, -48.75459...\n",
              "22  MULTIPOLYGON (((-37.38458 -11.45986, -37.38458...\n",
              "23  POLYGON ((-48.35310 -5.17391, -48.32085 -5.201..."
            ]
          },
          "metadata": {
            "tags": []
          },
          "execution_count": 120
        }
      ]
    },
    {
      "cell_type": "code",
      "metadata": {
        "colab": {
          "base_uri": "https://localhost:8080/"
        },
        "id": "vHlCsI4V6V5q",
        "outputId": "255f9bf4-1f0f-4808-ae02-5e607e683972"
      },
      "source": [
        "merged = map_df.join(df2)\n",
        "merged = merged.dropna()\n",
        "merged = merged[['state', 'geometry', 'Count']]\n",
        "print(merged)"
      ],
      "execution_count": null,
      "outputs": [
        {
          "output_type": "stream",
          "text": [
            "               state  ...      Count\n",
            "0               Acre  ...  18464.030\n",
            "1            Alagoas  ...   4644.000\n",
            "2              Amapa  ...  21831.576\n",
            "3           Amazonas  ...  30650.129\n",
            "4              Bahia  ...  44746.226\n",
            "5              Ceara  ...  30428.063\n",
            "6   Distrito Federal  ...   3561.000\n",
            "7     Espirito Santo  ...   6546.000\n",
            "8              Goias  ...  37695.520\n",
            "9           Maranhao  ...  25129.131\n",
            "10       Mato Grosso  ...  96246.028\n",
            "11      Minas Gerais  ...  37475.258\n",
            "12           Paraiba  ...  52435.918\n",
            "13              Pará  ...  24512.144\n",
            "14        Pernambuco  ...  24498.000\n",
            "15              Piau  ...  37803.747\n",
            "16               Rio  ...  45160.865\n",
            "17          Rondonia  ...  20285.429\n",
            "18           Roraima  ...  24385.074\n",
            "19    Santa Catarina  ...  24359.852\n",
            "20        Sao Paulo   ...  51121.198\n",
            "21           Sergipe  ...   3237.000\n",
            "22         Tocantins  ...  33707.885\n",
            "\n",
            "[23 rows x 3 columns]\n"
          ],
          "name": "stdout"
        }
      ]
    },
    {
      "cell_type": "code",
      "metadata": {
        "id": "Ii06Hj9S7KQV"
      },
      "source": [
        "variable = 'Count'"
      ],
      "execution_count": null,
      "outputs": []
    },
    {
      "cell_type": "code",
      "metadata": {
        "id": "Qou-EPkt-zZC"
      },
      "source": [
        "vmin = 0\n",
        "vmax = merged['Count'].max()"
      ],
      "execution_count": null,
      "outputs": []
    },
    {
      "cell_type": "code",
      "metadata": {
        "colab": {
          "base_uri": "https://localhost:8080/",
          "height": 605
        },
        "id": "AMEZv7V3-90-",
        "outputId": "6c5b2e39-c2f3-4db7-dc1d-50bbe3f45985"
      },
      "source": [
        "fig, ax = plt.subplots(1, figsize=(30, 10))\n",
        "ax.axis('off')\n",
        "ax.set_title('Forest Fires in Brazil', fontdict={'fontsize': '25', 'fontweight' : '3'})\n",
        "sm = plt.cm.ScalarMappable(cmap='OrRd',norm=plt.Normalize(vmin=vmin, vmax=vmax))\n",
        "sm.set_array([]) \n",
        "fig.colorbar(sm)\n",
        "merged.plot(column=variable, cmap='OrRd', linewidth=0.8, ax=ax, edgecolor='0.8')\n",
        "plt.show()"
      ],
      "execution_count": null,
      "outputs": [
        {
          "output_type": "display_data",
          "data": {
            "image/png": "[encoded data removed]",
            "text/plain": [
              "<Figure size 2160x720 with 2 Axes>"
            ]
          },
          "metadata": {
            "tags": [],
            "needs_background": "light"
          }
        }
      ]
    }
  ]
}